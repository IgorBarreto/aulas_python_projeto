{
  "nbformat": 4,
  "nbformat_minor": 0,
  "metadata": {
    "colab": {
      "name": "Exercícios 1",
      "version": "0.3.2",
      "provenance": [],
      "collapsed_sections": [],
      "toc_visible": true
    },
    "kernelspec": {
      "name": "python3",
      "display_name": "Python 3"
    }
  },
  "cells": [
    {
      "cell_type": "markdown",
      "metadata": {
        "id": "i_RKTJiRdnOC",
        "colab_type": "text"
      },
      "source": [
        "# 1 - Crie um programa que mostre ‘olá,mundo!’ na tela."
      ]
    },
    {
      "cell_type": "code",
      "metadata": {
        "id": "NOw6Scp5daeg",
        "colab_type": "code",
        "colab": {}
      },
      "source": [
        ""
      ],
      "execution_count": 0,
      "outputs": []
    },
    {
      "cell_type": "markdown",
      "metadata": {
        "id": "9whikeHed-x5",
        "colab_type": "text"
      },
      "source": [
        "# 2 - Faça um programa que leia o nome de uma pessoa e mostre uma mensagem de boas vindas"
      ]
    },
    {
      "cell_type": "code",
      "metadata": {
        "id": "KHHrrBm5eAXp",
        "colab_type": "code",
        "colab": {}
      },
      "source": [
        ""
      ],
      "execution_count": 0,
      "outputs": []
    },
    {
      "cell_type": "markdown",
      "metadata": {
        "id": "quDK0O8TeAGZ",
        "colab_type": "text"
      },
      "source": [
        "# 3 - Crie um programa que leia dois números e faça a soma entre eles."
      ]
    },
    {
      "cell_type": "code",
      "metadata": {
        "id": "k6t9YuTLd_fB",
        "colab_type": "code",
        "colab": {}
      },
      "source": [
        ""
      ],
      "execution_count": 0,
      "outputs": []
    },
    {
      "cell_type": "markdown",
      "metadata": {
        "id": "UFDEFxoKeTZo",
        "colab_type": "text"
      },
      "source": [
        "# 4 - Peça um número inteiro para o usuário e mostre o dobro, triplo e a raiz quadrada deste número\n"
      ]
    },
    {
      "cell_type": "code",
      "metadata": {
        "id": "GZGANMiUeZE5",
        "colab_type": "code",
        "colab": {}
      },
      "source": [
        ""
      ],
      "execution_count": 0,
      "outputs": []
    },
    {
      "cell_type": "markdown",
      "metadata": {
        "id": "JAjpyloveZSp",
        "colab_type": "text"
      },
      "source": [
        "# 5 - Entre com dois números e mostre a média entre eles."
      ]
    },
    {
      "cell_type": "code",
      "metadata": {
        "id": "SCj6UUuoeZdR",
        "colab_type": "code",
        "colab": {}
      },
      "source": [
        ""
      ],
      "execution_count": 0,
      "outputs": []
    },
    {
      "cell_type": "markdown",
      "metadata": {
        "id": "ok4-xaR5eZnY",
        "colab_type": "text"
      },
      "source": [
        "# 6 - Entre com o valor em metros e mostre este valor em Km, Hm, dam, m, dc, cm, mm.\n",
        "\n",
        "## EX: 0,001 km = 0,0001 ha = 0,1 dam = 1 m 10 dc = 100 cm =  1000 mm"
      ]
    },
    {
      "cell_type": "code",
      "metadata": {
        "id": "Jz1_L3mfeZxh",
        "colab_type": "code",
        "colab": {}
      },
      "source": [
        ""
      ],
      "execution_count": 0,
      "outputs": []
    },
    {
      "cell_type": "markdown",
      "metadata": {
        "id": "QxZBAhNOeZ7p",
        "colab_type": "text"
      },
      "source": [
        "# 7 - Entre com um número e mostre sua tabuada.\n"
      ]
    },
    {
      "cell_type": "code",
      "metadata": {
        "id": "FMMSn6sWef45",
        "colab_type": "code",
        "colab": {}
      },
      "source": [
        ""
      ],
      "execution_count": 0,
      "outputs": []
    },
    {
      "cell_type": "markdown",
      "metadata": {
        "id": "5hZT-jCIeg2x",
        "colab_type": "text"
      },
      "source": [
        "# 8 - Assumindo que o S1,00 dólar equivale a RS3,50, faça um programa que converta reais em dólares. \n",
        "## Ex : RS 35,00 =  S10,00"
      ]
    },
    {
      "cell_type": "code",
      "metadata": {
        "id": "sx8yNyzwehBx",
        "colab_type": "code",
        "colab": {}
      },
      "source": [
        ""
      ],
      "execution_count": 0,
      "outputs": []
    },
    {
      "cell_type": "markdown",
      "metadata": {
        "id": "VSfrWFx-ehOR",
        "colab_type": "text"
      },
      "source": [
        "# 9 - Faça um programa que mostre a área de uma parede pedindo sua altura e sua largura."
      ]
    },
    {
      "cell_type": "code",
      "metadata": {
        "id": "iz0bHTUkehYx",
        "colab_type": "code",
        "colab": {}
      },
      "source": [
        ""
      ],
      "execution_count": 0,
      "outputs": []
    },
    {
      "cell_type": "markdown",
      "metadata": {
        "id": "IwQJlYY2ehmp",
        "colab_type": "text"
      },
      "source": [
        "# 10 - Utilizando o programa anterior, apos calcular a área da parede mostre quantas latas de tinta será necessário para pintar esta parede, sabendo que uma lata de tinta pinta 2m² de parede\n",
        "\n",
        "\n",
        "\n",
        "\n",
        "\n",
        "\n"
      ]
    },
    {
      "cell_type": "code",
      "metadata": {
        "id": "jaYBZd9te-G6",
        "colab_type": "code",
        "colab": {}
      },
      "source": [
        ""
      ],
      "execution_count": 0,
      "outputs": []
    },
    {
      "cell_type": "markdown",
      "metadata": {
        "id": "tawy9RtpAJNh",
        "colab_type": "text"
      },
      "source": [
        "# 11 - Faça um exercício que peça o valor de um produto e de um desconto de 10% e mostre o novo valor.\n",
        "## Ex: RS 10,00   => RS 9,00.\n"
      ]
    },
    {
      "cell_type": "code",
      "metadata": {
        "id": "W21qhdjxAKCM",
        "colab_type": "code",
        "colab": {}
      },
      "source": [
        ""
      ],
      "execution_count": 0,
      "outputs": []
    },
    {
      "cell_type": "markdown",
      "metadata": {
        "id": "FfU2cUZPAVvu",
        "colab_type": "text"
      },
      "source": [
        "# 12 - Entre com o salário de um funcionário e mostre o novo salário com um acréscimo de 15%.\n",
        "\n"
      ]
    },
    {
      "cell_type": "code",
      "metadata": {
        "id": "LgBz4ngBAXL5",
        "colab_type": "code",
        "colab": {}
      },
      "source": [
        ""
      ],
      "execution_count": 0,
      "outputs": []
    },
    {
      "cell_type": "markdown",
      "metadata": {
        "id": "eYPrgXEVAX1T",
        "colab_type": "text"
      },
      "source": [
        "# 13 - Entre com a temperatura em °C (graus Celsius) e mostre ela em °F (graus Fahrenheit.\n",
        "## Dica: procure como transformar temperatura Celsius em fahrenheit\n",
        "\n"
      ]
    },
    {
      "cell_type": "code",
      "metadata": {
        "id": "Yqkoqq-1AhIQ",
        "colab_type": "code",
        "colab": {}
      },
      "source": [
        ""
      ],
      "execution_count": 0,
      "outputs": []
    },
    {
      "cell_type": "markdown",
      "metadata": {
        "id": "Exh1YlSZAjPY",
        "colab_type": "text"
      },
      "source": [
        "# 14 - Escreva um programa que pergunte a quantidade de quilômetros rodados por um carro alugado e a quantidade de dias que ele foi alugado. Calcule o preço a ser pago sabendo que o carro custa R$ 60,00 por dia e R$ 0,15 por Km rodado.\n",
        "## Ex 5 dias alugados e percorreu 1500km => R$525 \n"
      ]
    },
    {
      "cell_type": "code",
      "metadata": {
        "id": "1s6sEmjRAocq",
        "colab_type": "code",
        "colab": {}
      },
      "source": [
        ""
      ],
      "execution_count": 0,
      "outputs": []
    },
    {
      "cell_type": "markdown",
      "metadata": {
        "id": "O2mR-MJZAqYg",
        "colab_type": "text"
      },
      "source": [
        "# 15 - Mostre a parte inteira de um número\n"
      ]
    },
    {
      "cell_type": "code",
      "metadata": {
        "id": "unbvRpdVAuie",
        "colab_type": "code",
        "colab": {}
      },
      "source": [
        ""
      ],
      "execution_count": 0,
      "outputs": []
    },
    {
      "cell_type": "markdown",
      "metadata": {
        "id": "bBSAvOZGAva5",
        "colab_type": "text"
      },
      "source": [
        "# 16 - Calcule a hipotenusa de um triângulo retângulo.\n",
        "## Dica: procure como calcular a hipotenusa de um triângulo retângulo\n",
        "\n"
      ]
    },
    {
      "cell_type": "code",
      "metadata": {
        "id": "FiDDDUIYA1WE",
        "colab_type": "code",
        "colab": {}
      },
      "source": [
        ""
      ],
      "execution_count": 0,
      "outputs": []
    },
    {
      "cell_type": "markdown",
      "metadata": {
        "id": "fOORDdX1A3n6",
        "colab_type": "text"
      },
      "source": [
        "# 17 - Calcule o Seno, cosseno e tangente de um ângulo.\n",
        "## Dica: NA PRIMEIRA LINHA IMPORTE A BIBLIOTECA math\n",
        "## import math"
      ]
    },
    {
      "cell_type": "code",
      "metadata": {
        "id": "Rwr-arDCBADe",
        "colab_type": "code",
        "colab": {}
      },
      "source": [
        ""
      ],
      "execution_count": 0,
      "outputs": []
    },
    {
      "cell_type": "markdown",
      "metadata": {
        "id": "fVrgMnqIBAsQ",
        "colab_type": "text"
      },
      "source": [
        "# 18 - Entre com 4 pessoas e sorteie uma delas.\n",
        "## Dica utilize lista para armazenar as pessoas\n",
        "## Ex: alunos = [a1,a2,a3]\n",
        "## Procure como sortear um valor em uma lista com python  \n"
      ]
    },
    {
      "cell_type": "code",
      "metadata": {
        "id": "rqKL093pBRAF",
        "colab_type": "code",
        "colab": {}
      },
      "source": [
        ""
      ],
      "execution_count": 0,
      "outputs": []
    },
    {
      "cell_type": "markdown",
      "metadata": {
        "id": "afV6-udJBRcA",
        "colab_type": "text"
      },
      "source": [
        "# 19 - Entre com 4 pessoas e ordene eles de forma aleatória.\n",
        " "
      ]
    },
    {
      "cell_type": "code",
      "metadata": {
        "id": "7F1DiapNBig0",
        "colab_type": "code",
        "colab": {}
      },
      "source": [
        ""
      ],
      "execution_count": 0,
      "outputs": []
    },
    {
      "cell_type": "markdown",
      "metadata": {
        "id": "O4ATRHH9BjHY",
        "colab_type": "text"
      },
      "source": [
        "# 20 - Entre com um número e mostre quantas unidades, dezenas, centenas e unidade de milhar\n",
        "## Ex: \n",
        "## 3652\n",
        "### -> unidades: 2\n",
        "### ->\t\tdezenas: 5\n",
        "### ->\t\tcentenas:6\n",
        "### ->   milhar: 3\n",
        "## 35\n",
        "### -> \tunidades: 5\n",
        "### -> \tdezenas: 3\n",
        "### -> \tcentenas : 0\n",
        "### -> \tmilhar: 0\n"
      ]
    },
    {
      "cell_type": "code",
      "metadata": {
        "id": "dKa4VHG1CTcW",
        "colab_type": "code",
        "colab": {}
      },
      "source": [
        ""
      ],
      "execution_count": 0,
      "outputs": []
    },
    {
      "cell_type": "markdown",
      "metadata": {
        "id": "MI5Jkbon0MWp",
        "colab_type": "text"
      },
      "source": [
        "# 21 - Faça um programa que leia 3 números e mostre o menor e o maior deles.\n",
        "## ex:\n",
        "## ENTRADA\n",
        "> ## 2 ,25 e 10\n",
        "## SAÍDA\n",
        "> ## O menor número é 2 e o maior é 25"
      ]
    },
    {
      "cell_type": "code",
      "metadata": {
        "id": "6MEIJY5V0nX9",
        "colab_type": "code",
        "colab": {}
      },
      "source": [
        ""
      ],
      "execution_count": 0,
      "outputs": []
    },
    {
      "cell_type": "markdown",
      "metadata": {
        "id": "P8djjOyn0plc",
        "colab_type": "text"
      },
      "source": [
        "# 22 Desenvolva um programa que peça o salário de um funcionário e calcule o valor do novo salários, para quem recebe mais que 1.250,00 tera a um aumento de 10% e os demais um aumento de 15%.\n",
        "## Ex:\n",
        "## ENTRADA\n",
        "> ## 1.000,00\n",
        "## SAÍDA\n",
        "> ## 1.150,00\n",
        "## Ex 2:\n",
        "## ENTRADA\n",
        "> ## 10.000,00\n",
        "## SAÍDA\n",
        "> ## 11.000,00"
      ]
    },
    {
      "cell_type": "code",
      "metadata": {
        "id": "eB3PQXEk2rvH",
        "colab_type": "code",
        "colab": {}
      },
      "source": [
        ""
      ],
      "execution_count": 0,
      "outputs": []
    },
    {
      "cell_type": "markdown",
      "metadata": {
        "id": "LBY08gHr2uyx",
        "colab_type": "text"
      },
      "source": [
        "# 23 Faça um programa que leia três segmentos de reta e diga se forma um triângulo.\n",
        "## * DICA: Procurar como saber se três retas formam um triângulo\n",
        "## Ex\n",
        "## ENTRADA\n",
        "> ## 3, 3 ,3\n",
        "## SAÍDA\n",
        "> ## Podem formar um triângulo\n",
        "## Ex 2\n",
        "## ENTRADA\n",
        "> ## 2, 4, 6\n",
        "## SAÍDA\n",
        "> ## Não podem formar um triângulo\n"
      ]
    },
    {
      "cell_type": "code",
      "metadata": {
        "id": "sFLEOg7M20VW",
        "colab_type": "code",
        "colab": {}
      },
      "source": [
        ""
      ],
      "execution_count": 0,
      "outputs": []
    }
  ]
}