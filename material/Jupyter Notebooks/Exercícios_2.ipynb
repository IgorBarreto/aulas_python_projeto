{
  "nbformat": 4,
  "nbformat_minor": 0,
  "metadata": {
    "colab": {
      "name": "Exercícios 2",
      "version": "0.3.2",
      "provenance": [],
      "toc_visible": true
    },
    "kernelspec": {
      "name": "python3",
      "display_name": "Python 3"
    }
  },
  "cells": [
    {
      "cell_type": "markdown",
      "metadata": {
        "id": "j6YUb46d9lca",
        "colab_type": "text"
      },
      "source": [
        "# 1 - Crie um programa que peça para aprovar o empréstico bancário de uma casa. Pergunte o valor da casa, o salário da pessoa e em quanto tempo vai pagar o empréstimo.\n",
        "# *A prestação mensal não pode exceder 30% do salário da pessoa, se isso acontecer o empréstimo será negado.\n",
        "\n",
        "## Ex:\n",
        "## ENTRADA\n",
        "> ## salário: 5.000,00\n",
        "> ## valor da casa: 100.000,00\n",
        "> ## Anos a ser pago o empréstimo: 5 anos\n",
        "## SAÍDA\n",
        "> ## O seu empréstimo foi reprovado\n",
        "\n",
        "## Ex 2:\n",
        "## ENTRADA\n",
        "> ## salário: 12.000,00\n",
        "> ## valor da casa: 200.000,00\n",
        "> ## Anos a ser pago o empréstimo: 5 anos\n",
        "## SAÍDA\n",
        "> ## O seu empréstimo foi aprovado\n"
      ]
    },
    {
      "cell_type": "code",
      "metadata": {
        "id": "VpVYVh4YT0fA",
        "colab_type": "code",
        "colab": {}
      },
      "source": [
        ""
      ],
      "execution_count": 0,
      "outputs": []
    },
    {
      "cell_type": "markdown",
      "metadata": {
        "id": "1cLysL4N9mCq",
        "colab_type": "text"
      },
      "source": [
        "# 2 - Crie um programa que pessa o ano de nascimento de uma pessoa e mostre se ela já deveria ter feito o alistamento militar, vai fazer ou esta na hora de fazer,.\n",
        "## DICA: Procure como pegar o ano atual usando python"
      ]
    },
    {
      "cell_type": "code",
      "metadata": {
        "id": "QOd5PxIq9ma1",
        "colab_type": "code",
        "colab": {}
      },
      "source": [
        ""
      ],
      "execution_count": 0,
      "outputs": []
    },
    {
      "cell_type": "markdown",
      "metadata": {
        "id": "QecgR-oQ9nhq",
        "colab_type": "text"
      },
      "source": [
        "# 3 - Diga qual a categoria de um nadador de acordo com o ano de nascimento dele. \n",
        "* ## MIRIM até 9 anos\n",
        "* ## INFANTIL até 14 anos\n",
        "* ## JUNIOR até 19 anos\n",
        "* ## SÊNIOR até 25 anos\n",
        "* ## MASTER acima de 25 anos\n",
        "\n",
        "\n",
        "## DICA: Procure como pegar o ano atual usando python"
      ]
    },
    {
      "cell_type": "code",
      "metadata": {
        "id": "iE9kI5Mo9ojw",
        "colab_type": "code",
        "colab": {}
      },
      "source": [
        ""
      ],
      "execution_count": 0,
      "outputs": []
    },
    {
      "cell_type": "markdown",
      "metadata": {
        "id": "ixDojIAEGbDF",
        "colab_type": "text"
      },
      "source": [
        "# 3 - Tendo como base o exercéio sobre triângulos, alé de verificar se os segmentos formam um triângulo, diga que tipo de triangulo ele forma, isósseles, escaleno ou equilatero.\n",
        "## DICA: Procure como saber se um triângulo é equilátero, isósseles ou escaleno"
      ]
    },
    {
      "cell_type": "code",
      "metadata": {
        "id": "LrwjY38hHI-2",
        "colab_type": "code",
        "colab": {}
      },
      "source": [
        ""
      ],
      "execution_count": 0,
      "outputs": []
    },
    {
      "cell_type": "markdown",
      "metadata": {
        "id": "ZeWsCTQqHSle",
        "colab_type": "text"
      },
      "source": [
        "# 4 - Faça um programa que peça a altura e o peso de uma pessoa e  calcule o índice de massa corporal (IMC) dela, mostrando seu status de acordo com os valores abaixo:\n",
        "* ## menos que 18,5 => Abaixo do peso\n",
        "* ## entre 18,5 e 25 => Peso ideal\n",
        "* ## entre 25 e 30 =>  Sobrepeso\n",
        "* ## entre 30 e 40 => Obesidade \n",
        "* ## acima de 40 => Obesidade mórbida\n",
        "## DICA: Procure como calcular o IMC de uma pessoa"
      ]
    },
    {
      "cell_type": "code",
      "metadata": {
        "id": "PgIj18wOJHmw",
        "colab_type": "code",
        "colab": {}
      },
      "source": [
        ""
      ],
      "execution_count": 0,
      "outputs": []
    },
    {
      "cell_type": "markdown",
      "metadata": {
        "id": "pXngDgAfJhuu",
        "colab_type": "text"
      },
      "source": [
        "# 5 - Crie um programa que simule o caixa de uma loja, pergunte o valor da compra e a forma de pagamento a ser feita, de acordo com a forma de pagamento de um desconto, adicione juros ou cobre o valor certo\n",
        "##  FORMAS DE PAGAMENTO\n",
        "* ### dinheiro ou cheque  => 10% de desconto\n",
        "* ### à vista no cartão => 5% de desconto\n",
        "* ### em até 2x no cartão => sem desconto\n",
        "* ### em 3x ou mais => um acrécimo de 20% no valor da compra\n",
        "\n",
        "## DICA: use este pedaço de código para mostra a mensagem das opções deas formas de pagamentos disponíveis\n",
        "\n",
        "```\n",
        "print(''' FORMAS DE PAGAMENTO\n",
        "  [ 1 ] à vista dinheiro ou cheque\n",
        "  [ 2 ] á vista no cartão\n",
        "  [ 3 ] 2x no cartão\n",
        "  [ 4 ] 3x ou mais no cartão''')\n",
        "```"
      ]
    },
    {
      "cell_type": "code",
      "metadata": {
        "id": "KsECc6WNJiWe",
        "colab_type": "code",
        "colab": {}
      },
      "source": [
        ""
      ],
      "execution_count": 0,
      "outputs": []
    },
    {
      "cell_type": "markdown",
      "metadata": {
        "id": "XLPNUiyMJiuB",
        "colab_type": "text"
      },
      "source": [
        "# 6 - Faça um programa que realize uma contagem regressiva de 10 até 0 com uma pausa de 1 segundo entre eles\n",
        "\n",
        "## DICA: Procure como usar a função sleep em python\n"
      ]
    },
    {
      "cell_type": "code",
      "metadata": {
        "id": "-cqYFm_MJjmx",
        "colab_type": "code",
        "colab": {}
      },
      "source": [
        ""
      ],
      "execution_count": 0,
      "outputs": []
    },
    {
      "cell_type": "markdown",
      "metadata": {
        "id": "1Ow1VXC6QxXY",
        "colab_type": "text"
      },
      "source": [
        "# 6 - Mostre todos os números pares entre 0 e 1000."
      ]
    },
    {
      "cell_type": "code",
      "metadata": {
        "id": "kcmfJAwmQ5Ux",
        "colab_type": "code",
        "colab": {}
      },
      "source": [
        ""
      ],
      "execution_count": 0,
      "outputs": []
    },
    {
      "cell_type": "markdown",
      "metadata": {
        "id": "1ORXCxixQ6Ut",
        "colab_type": "text"
      },
      "source": [
        "# 7 - Faça um programa que some todos os núermos que são multiplos de 3 entre 1 e 500 e mostre também quantos números foram somados."
      ]
    },
    {
      "cell_type": "code",
      "metadata": {
        "id": "2QzEgUFuSUiy",
        "colab_type": "code",
        "colab": {}
      },
      "source": [
        ""
      ],
      "execution_count": 0,
      "outputs": []
    },
    {
      "cell_type": "markdown",
      "metadata": {
        "id": "gHSvIjhMSVYs",
        "colab_type": "text"
      },
      "source": [
        "# 8 - Crie um exercício que peça um núemro para o suário e mostre sua tabuada\n",
        "## DICA: Use laços de repetição para fazer este exercício\n"
      ]
    },
    {
      "cell_type": "code",
      "metadata": {
        "id": "8iLJ26iNSmfF",
        "colab_type": "code",
        "colab": {}
      },
      "source": [
        ""
      ],
      "execution_count": 0,
      "outputs": []
    },
    {
      "cell_type": "markdown",
      "metadata": {
        "id": "ATXXgnt0SnNL",
        "colab_type": "text"
      },
      "source": [
        "# 9 - Peça para o usuário entrar com 6 números e então realize a soma somente dos números pares.\n",
        "\n",
        "## ex:\n",
        "## ENTRADA\n",
        "> ##  5,10,21,16,100,1\n",
        "## SAÍDA\n",
        "> ## A soma dos números pares é: 126"
      ]
    },
    {
      "cell_type": "code",
      "metadata": {
        "id": "K5E9H5mwUH8W",
        "colab_type": "code",
        "colab": {}
      },
      "source": [
        ""
      ],
      "execution_count": 0,
      "outputs": []
    }
  ]
}